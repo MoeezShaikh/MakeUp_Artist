{
  "nbformat": 4,
  "nbformat_minor": 0,
  "metadata": {
    "colab": {
      "provenance": []
    },
    "kernelspec": {
      "name": "python3",
      "display_name": "Python 3"
    },
    "language_info": {
      "name": "python"
    }
  },
  "cells": [
    {
      "cell_type": "code",
      "execution_count": null,
      "metadata": {
        "colab": {
          "base_uri": "https://localhost:8080/"
        },
        "id": "_wPDjGOPqmNI",
        "outputId": "1d4b4029-b26e-45ad-e164-23353b1d4a0a"
      },
      "outputs": [
        {
          "output_type": "stream",
          "name": "stdout",
          "text": [
            "Lowercase text:\n",
            "the party began with a joyful cheer! friends danced merrily, and making unforgettable memories, celebrating the new year 2023.\n"
          ]
        }
      ],
      "source": [
        "import string\n",
        "\n",
        "text = \"The party began with a joyful cheer! Friends danced merrily, and making unforgettable memories, celebrating the new year 2023.\"\n",
        "\n",
        "# Task 3: Convert text into lower case\n",
        "text_lower = text.lower()\n",
        "print(\"Lowercase text:\")\n",
        "print(text_lower)\n"
      ]
    },
    {
      "cell_type": "code",
      "source": [
        "\n",
        "# Task 4: Remove numbers\n",
        "text_no_numbers = ''.join(char for char in text_lower if not char.isdigit())\n",
        "print(\"\\nText with numbers removed:\")\n",
        "print(text_no_numbers)"
      ],
      "metadata": {
        "colab": {
          "base_uri": "https://localhost:8080/"
        },
        "id": "4j1Uenfut5u-",
        "outputId": "424d223e-487b-4cd5-ab68-f48b05ca8779"
      },
      "execution_count": null,
      "outputs": [
        {
          "output_type": "stream",
          "name": "stdout",
          "text": [
            "\n",
            "Text with numbers removed:\n",
            "the party began with a joyful cheer! friends danced merrily, and making unforgettable memories, celebrating the new year .\n"
          ]
        }
      ]
    },
    {
      "cell_type": "code",
      "source": [
        "# Task 5: Remove punctuation marks\n",
        "text_no_punctuation = text_no_numbers.translate(str.maketrans('', '', string.punctuation)) #maketrans() method is a string method in Python\n",
        "        #used to create a translation table. where all punctuation characters in text_no_numbers are mapped to None, effectively removing them.\n",
        "print(\"\\nText with punctuation marks removed:\")\n",
        "print(text_no_punctuation)"
      ],
      "metadata": {
        "colab": {
          "base_uri": "https://localhost:8080/"
        },
        "id": "WFgwcMQYt9ts",
        "outputId": "48f5c62b-bfbe-436d-8cc2-2bf3070b6b21"
      },
      "execution_count": null,
      "outputs": [
        {
          "output_type": "stream",
          "name": "stdout",
          "text": [
            "\n",
            "Text with punctuation marks removed:\n",
            "the party began with a joyful cheer friends danced merrily and making unforgettable memories celebrating the new year \n"
          ]
        }
      ]
    },
    {
      "cell_type": "code",
      "source": [
        "# Task 6: Remove white space\n",
        "text_no_whitespace = ' '.join(text_no_punctuation.split())\n",
        "print(\"\\nText with white spaces removed:\")\n",
        "print(text_no_whitespace)\n"
      ],
      "metadata": {
        "colab": {
          "base_uri": "https://localhost:8080/"
        },
        "id": "6u4dS_oeuAQs",
        "outputId": "1db40173-69a9-46b4-b7c7-fdd7c9ac5f39"
      },
      "execution_count": null,
      "outputs": [
        {
          "output_type": "stream",
          "name": "stdout",
          "text": [
            "\n",
            "Text with white spaces removed:\n",
            "the party began with a joyful cheer friends danced merrily and making unforgettable memories celebrating the new year\n"
          ]
        }
      ]
    },
    {
      "cell_type": "code",
      "source": [
        "\n",
        "# Task 7: Perform word tokenization\n",
        "word_tokens = text_no_whitespace.split()\n",
        "print(\"\\nWord tokens:\")\n",
        "print(word_tokens)"
      ],
      "metadata": {
        "colab": {
          "base_uri": "https://localhost:8080/"
        },
        "id": "7Y0gnh71uAS_",
        "outputId": "ff189c9e-0bcd-4609-db11-4d8d4dac7877"
      },
      "execution_count": null,
      "outputs": [
        {
          "output_type": "stream",
          "name": "stdout",
          "text": [
            "\n",
            "Word tokens:\n",
            "['the', 'party', 'began', 'with', 'a', 'joyful', 'cheer', 'friends', 'danced', 'merrily', 'and', 'making', 'unforgettable', 'memories', 'celebrating', 'the', 'new', 'year']\n"
          ]
        }
      ]
    },
    {
      "cell_type": "code",
      "source": [
        "# Task 8: Perform sentence tokenization\n",
        "sentence_tokens = text.split('.')\n",
        "print(\"\\nSentence tokens:\")\n",
        "print(sentence_tokens)"
      ],
      "metadata": {
        "colab": {
          "base_uri": "https://localhost:8080/"
        },
        "id": "IaR5KEfNuAVI",
        "outputId": "04d20ba1-c47f-455f-d280-bf40bdb07a7b"
      },
      "execution_count": null,
      "outputs": [
        {
          "output_type": "stream",
          "name": "stdout",
          "text": [
            "\n",
            "Sentence tokens:\n",
            "['The party began with a joyful cheer! Friends danced merrily, and making unforgettable memories, celebrating the new year 2023', '']\n"
          ]
        }
      ]
    },
    {
      "cell_type": "code",
      "source": [
        "# Task 8: Perform sentence tokenization\n",
        "sentence_tokens = text.split('.')\n",
        "print(\"\\nSentence tokens:\")\n",
        "print(sentence_tokens)"
      ],
      "metadata": {
        "colab": {
          "base_uri": "https://localhost:8080/"
        },
        "id": "0VX_3FQ6uAYK",
        "outputId": "8fdd3606-49ef-4629-deee-cc7aa6c3bc7b"
      },
      "execution_count": null,
      "outputs": [
        {
          "output_type": "stream",
          "name": "stdout",
          "text": [
            "\n",
            "Sentence tokens:\n",
            "['The party began with a joyful cheer! Friends danced merrily, and making unforgettable memories, celebrating the new year 2023', '']\n"
          ]
        }
      ]
    },
    {
      "cell_type": "code",
      "source": [
        "import string\n",
        "import nltk\n",
        "from nltk.tokenize import word_tokenize, sent_tokenize\n",
        "from nltk.corpus import stopwords\n",
        "\n",
        "# Download necessary resources if not already downloaded\n",
        "nltk.download('punkt')\n",
        "nltk.download('stopwords')\n",
        "\n",
        "\n",
        "\n",
        "\n",
        "\n"
      ],
      "metadata": {
        "colab": {
          "base_uri": "https://localhost:8080/"
        },
        "id": "sru1nHYquAa3",
        "outputId": "c3ba9dea-ad84-46a9-c103-0a1a0d3ba6ca"
      },
      "execution_count": null,
      "outputs": [
        {
          "output_type": "stream",
          "name": "stderr",
          "text": [
            "[nltk_data] Downloading package punkt to /root/nltk_data...\n",
            "[nltk_data]   Package punkt is already up-to-date!\n",
            "[nltk_data] Downloading package stopwords to /root/nltk_data...\n",
            "[nltk_data]   Package stopwords is already up-to-date!\n"
          ]
        },
        {
          "output_type": "execute_result",
          "data": {
            "text/plain": [
              "True"
            ]
          },
          "metadata": {},
          "execution_count": 51
        }
      ]
    },
    {
      "cell_type": "code",
      "source": [
        "# Original text\n",
        "text = \"The party began with a joyful cheer! Friends danced merrily, and making unforgettable memories, celebrating the new year 2023.\"\n",
        "\n",
        "# Task 3: Convert text into lower case\n",
        "text_lower = text.lower()\n",
        "print(\"Lowercase text:\")\n",
        "print(text_lower)"
      ],
      "metadata": {
        "colab": {
          "base_uri": "https://localhost:8080/"
        },
        "id": "zFd9Fv_WyCzj",
        "outputId": "2f54b5e8-56c9-44b4-d46f-63c24671ba27"
      },
      "execution_count": null,
      "outputs": [
        {
          "output_type": "stream",
          "name": "stdout",
          "text": [
            "Lowercase text:\n",
            "the party began with a joyful cheer! friends danced merrily, and making unforgettable memories, celebrating the new year 2023.\n"
          ]
        }
      ]
    },
    {
      "cell_type": "code",
      "source": [
        "# Task 4: Remove numbers\n",
        "text_no_numbers = ''.join(char for char in text_lower if not char.isdigit())\n",
        "print(\"\\nText with numbers removed:\")\n",
        "print(text_no_numbers)"
      ],
      "metadata": {
        "colab": {
          "base_uri": "https://localhost:8080/"
        },
        "id": "sZMIRs7tyC16",
        "outputId": "9b9d5a28-f137-4b65-fab0-6ea7de7bea66"
      },
      "execution_count": null,
      "outputs": [
        {
          "output_type": "stream",
          "name": "stdout",
          "text": [
            "\n",
            "Text with numbers removed:\n",
            "the party began with a joyful cheer! friends danced merrily, and making unforgettable memories, celebrating the new year .\n"
          ]
        }
      ]
    },
    {
      "cell_type": "code",
      "source": [
        "\n",
        "# Task 5: Remove punctuation marks\n",
        "text_no_punctuation = text_no_numbers.translate(str.maketrans('', '', string.punctuation))\n",
        "print(\"\\nText with punctuation marks removed:\")\n",
        "print(text_no_punctuation)"
      ],
      "metadata": {
        "colab": {
          "base_uri": "https://localhost:8080/"
        },
        "id": "nfYijwUpyC3r",
        "outputId": "f6fea807-afb4-413e-c83a-f2a2189a93db"
      },
      "execution_count": null,
      "outputs": [
        {
          "output_type": "stream",
          "name": "stdout",
          "text": [
            "\n",
            "Text with punctuation marks removed:\n",
            "the party began with a joyful cheer friends danced merrily and making unforgettable memories celebrating the new year \n"
          ]
        }
      ]
    },
    {
      "cell_type": "markdown",
      "source": [],
      "metadata": {
        "id": "A_Zw18Uk5TfI"
      }
    },
    {
      "cell_type": "code",
      "source": [
        "\n",
        "# Task 6: Remove white space\n",
        "text_no_whitespace = ' '.join(text_no_punctuation.split())\n",
        "print(\"\\nText with white spaces removed:\")\n",
        "print(text_no_whitespace)"
      ],
      "metadata": {
        "colab": {
          "base_uri": "https://localhost:8080/"
        },
        "id": "PwnzOsytyC7G",
        "outputId": "d4888fcc-3e18-4342-e3d5-0f9d9fabeb63"
      },
      "execution_count": null,
      "outputs": [
        {
          "output_type": "stream",
          "name": "stdout",
          "text": [
            "\n",
            "Text with white spaces removed:\n",
            "the party began with a joyful cheer friends danced merrily and making unforgettable memories celebrating the new year\n"
          ]
        }
      ]
    },
    {
      "cell_type": "code",
      "source": [
        "\n",
        "\n",
        "# Task 7: Perform word tokenization\n",
        "word_tokens = word_tokenize(text_no_whitespace)\n",
        "print(\"\\nWord tokens:\")\n",
        "print(word_tokens)"
      ],
      "metadata": {
        "colab": {
          "base_uri": "https://localhost:8080/"
        },
        "id": "Zohp4kOsyC-O",
        "outputId": "d41ae0c7-ee7b-4102-dfb6-464236f44893"
      },
      "execution_count": null,
      "outputs": [
        {
          "output_type": "stream",
          "name": "stdout",
          "text": [
            "\n",
            "Word tokens:\n",
            "['the', 'party', 'began', 'with', 'a', 'joyful', 'cheer', 'friends', 'danced', 'merrily', 'and', 'making', 'unforgettable', 'memories', 'celebrating', 'the', 'new', 'year']\n"
          ]
        }
      ]
    },
    {
      "cell_type": "code",
      "source": [
        "\n",
        "\n",
        "\n",
        "# Task 8: Perform sentence tokenization using nltk lib\n",
        "sentence_tokens = sent_tokenize(text)\n",
        "print(\"\\nSentence tokens:\")\n",
        "print(sentence_tokens)"
      ],
      "metadata": {
        "colab": {
          "base_uri": "https://localhost:8080/"
        },
        "id": "S9hhFDvcyDAW",
        "outputId": "d73d1d3a-d348-4af0-be38-948c558eb2cd"
      },
      "execution_count": null,
      "outputs": [
        {
          "output_type": "stream",
          "name": "stdout",
          "text": [
            "\n",
            "Sentence tokens:\n",
            "['The party began with a joyful cheer!', 'Friends danced merrily, and making unforgettable memories, celebrating the new year 2023.']\n"
          ]
        }
      ]
    },
    {
      "cell_type": "code",
      "source": [
        "\n",
        "\n",
        "# Task 9: Remove stop words (common words that do not add much meaning using nltk lib)\n",
        "stop_words = set(stopwords.words('english'))\n",
        "text_no_stop_words = ' '.join(word for word in word_tokens if word.lower() not in stop_words)\n",
        "print(\"\\nText with stop words removed:\")\n",
        "print(text_no_stop_words)"
      ],
      "metadata": {
        "colab": {
          "base_uri": "https://localhost:8080/"
        },
        "id": "_Zr-OtSGuAcV",
        "outputId": "86e550a1-80e7-4c17-b448-bb8b29735b6d"
      },
      "execution_count": null,
      "outputs": [
        {
          "output_type": "stream",
          "name": "stdout",
          "text": [
            "\n",
            "Text with stop words removed:\n",
            "party began joyful cheer friends danced merrily making unforgettable memories celebrating new year\n"
          ]
        }
      ]
    },
    {
      "cell_type": "code",
      "source": [],
      "metadata": {
        "id": "7gjqPdLUuAeX"
      },
      "execution_count": null,
      "outputs": []
    }
  ]
}